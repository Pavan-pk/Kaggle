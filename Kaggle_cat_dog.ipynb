{
  "nbformat": 4,
  "nbformat_minor": 0,
  "metadata": {
    "colab": {
      "name": "Kaggle_cat_dog.ipynb",
      "provenance": [],
      "collapsed_sections": [],
      "include_colab_link": true
    },
    "kernelspec": {
      "name": "python3",
      "display_name": "Python 3"
    },
    "accelerator": "GPU"
  },
  "cells": [
    {
      "cell_type": "markdown",
      "metadata": {
        "id": "view-in-github",
        "colab_type": "text"
      },
      "source": [
        "<a href=\"https://colab.research.google.com/github/Pavan-pk/Kaggle/blob/main/Kaggle_cat_dog.ipynb\" target=\"_parent\"><img src=\"https://colab.research.google.com/assets/colab-badge.svg\" alt=\"Open In Colab\"/></a>"
      ]
    },
    {
      "cell_type": "code",
      "metadata": {
        "id": "o-AxHgXN7qy9"
      },
      "source": [
        "# Log in to kaggel, get the API token and upload.\n",
        "from google.colab import files\n",
        "files.upload()"
      ],
      "execution_count": null,
      "outputs": []
    },
    {
      "cell_type": "code",
      "metadata": {
        "id": "kA9ORjmrA2U9"
      },
      "source": [
        "!ls -lha kaggle*"
      ],
      "execution_count": null,
      "outputs": []
    },
    {
      "cell_type": "code",
      "metadata": {
        "id": "mbiCgqnOBB2e"
      },
      "source": [
        "!pip install -q Kaggle"
      ],
      "execution_count": null,
      "outputs": []
    },
    {
      "cell_type": "code",
      "metadata": {
        "id": "p-e6tyB6BNes"
      },
      "source": [
        "# The Kaggle API client expects this file to be in ~/.kaggle,\n",
        "# so move it there.\n",
        "!mkdir -p ~/.kaggle\n",
        "!cp kaggle.json ~/.kaggle/\n",
        "\n",
        "# This permissions change avoids a warning on Kaggle tool startup.\n",
        "!chmod 600 ~/.kaggle/kaggle.json"
      ],
      "execution_count": null,
      "outputs": []
    },
    {
      "cell_type": "code",
      "metadata": {
        "id": "tGQyJDWhBWpE"
      },
      "source": [
        "!kaggle datasets list -s Dogs"
      ],
      "execution_count": null,
      "outputs": []
    },
    {
      "cell_type": "code",
      "metadata": {
        "id": "IX0__CM2FgLA"
      },
      "source": [
        "!kaggle datasets download -d thesherpafromalabama/cats-and-dogs-sentdex-tutorial"
      ],
      "execution_count": null,
      "outputs": []
    },
    {
      "cell_type": "code",
      "metadata": {
        "id": "y4AIx_j0eBj-"
      },
      "source": [
        "!ls -lha "
      ],
      "execution_count": null,
      "outputs": []
    },
    {
      "cell_type": "code",
      "metadata": {
        "id": "yiTKF2FWeMfU"
      },
      "source": [
        "!unzip cats-and-dogs-sentdex-tutorial.zip -d ./sentdex-tutorial > unwanted_unzip_log"
      ],
      "execution_count": null,
      "outputs": []
    },
    {
      "cell_type": "code",
      "metadata": {
        "id": "kuG9d76VeVAJ"
      },
      "source": [
        "!ls -l"
      ],
      "execution_count": null,
      "outputs": []
    },
    {
      "cell_type": "code",
      "metadata": {
        "id": "FX7sJ0hyfTRN"
      },
      "source": [
        "import numpy as np\n",
        "import matplotlib.pyplot as plt\n",
        "import os\n",
        "import cv2"
      ],
      "execution_count": null,
      "outputs": []
    },
    {
      "cell_type": "code",
      "metadata": {
        "id": "VcoUKg9lffMF"
      },
      "source": [
        "DATADIR = \"./sentdex-tutorial/PetImages\"\n",
        "CATEGORIES = [\"Dog\", \"Cat\"]"
      ],
      "execution_count": null,
      "outputs": []
    },
    {
      "cell_type": "code",
      "metadata": {
        "id": "IbKXwIsOf6XY"
      },
      "source": [
        "training_data = []\n",
        "def create_training_data():\n",
        "  for category in CATEGORIES:\n",
        "    path = os.path.join(DATADIR, category)\n",
        "    class_num = CATEGORIES.index(category)\n",
        "    for img in os.listdir(path):\n",
        "      try:\n",
        "        img_array = cv2.imread(os.path.join(path, img), cv2.IMREAD_GRAYSCALE)\n",
        "        new_array = cv2.resize(img_array, (128, 128))\n",
        "        training_data.append([new_array, class_num])\n",
        "      except:\n",
        "        pass\n",
        "\n",
        "create_training_data()"
      ],
      "execution_count": null,
      "outputs": []
    },
    {
      "cell_type": "code",
      "metadata": {
        "id": "bPunzcpnhn_X"
      },
      "source": [
        "print(len(training_data))"
      ],
      "execution_count": null,
      "outputs": []
    },
    {
      "cell_type": "code",
      "metadata": {
        "id": "4wbMJuCzj5E0"
      },
      "source": [
        "import random\n",
        "random.shuffle(training_data)"
      ],
      "execution_count": null,
      "outputs": []
    },
    {
      "cell_type": "code",
      "metadata": {
        "id": "sok9ZBY4kPJ3"
      },
      "source": [
        "X = []\n",
        "Y = []\n",
        "\n",
        "for features, labels in training_data:\n",
        "  X.append(features)\n",
        "  Y.append(labels)\n",
        "\n",
        "X = np.array(X).reshape(-1, 128, 128, 1)\n",
        "X = X/255.0"
      ],
      "execution_count": null,
      "outputs": []
    },
    {
      "cell_type": "code",
      "metadata": {
        "id": "3yt4bdGPUrDb"
      },
      "source": [
        "\n",
        "!apt install cuda"
      ],
      "execution_count": null,
      "outputs": []
    },
    {
      "cell_type": "code",
      "metadata": {
        "id": "EbN0aUbi40Ze"
      },
      "source": [
        "!pip install -q tf-nightly-gpu-2.0-preview\n",
        "%load_ext tensorboard"
      ],
      "execution_count": null,
      "outputs": []
    },
    {
      "cell_type": "code",
      "metadata": {
        "id": "mpg93khAl-hV"
      },
      "source": [
        "!pip install tensorboardcolab"
      ],
      "execution_count": null,
      "outputs": []
    },
    {
      "cell_type": "code",
      "metadata": {
        "id": "oJ_N-nmemX0S"
      },
      "source": [
        "import tensorflow as tf\n",
        "import time\n",
        "from tensorflow.keras.models import Sequential\n",
        "from tensorflow.keras.layers import Dense, Dropout, Activation, Flatten, Conv2D, MaxPooling2D, BatchNormalization\n",
        "from tensorflow.keras.callbacks import TensorBoard\n"
      ],
      "execution_count": null,
      "outputs": []
    },
    {
      "cell_type": "code",
      "metadata": {
        "id": "wLPitQx98zQq"
      },
      "source": [
        "!rm -rf logs_multiple"
      ],
      "execution_count": null,
      "outputs": []
    },
    {
      "cell_type": "code",
      "metadata": {
        "id": "pZtuFtdXf1Fs"
      },
      "source": [
        "%reload_ext tensorboard\n"
      ],
      "execution_count": null,
      "outputs": []
    },
    {
      "cell_type": "code",
      "metadata": {
        "id": "oU6J41a4yOzs"
      },
      "source": [
        "\n",
        "dense_layers = [1, 2, 3]\n",
        "layer_sizes = [64, 128, 256]\n",
        "conv_layers = [2, 3, 4]\n",
        "for dense_layer in dense_layers:\n",
        "  for layer_size in layer_sizes:\n",
        "    for conv_layer in conv_layers:\n",
        "      NAME = \"{}-conv-{}-nodes-{}-dense-{}\".format(conv_layer, layer_size, dense_layer, int(time.time()))\n",
        "      print(\"-------------------------------------------------------------------\")\n",
        "      print(NAME)\n",
        "      print(\"-------------------------------------------------------------------\")\n",
        "      model = Sequential()\n",
        "      \n",
        "      model.add(Conv2D(layer_size, (3,3),input_shape=X.shape[1:])) #input_shape is image resolution\n",
        "      model.add(Activation(\"relu\"))\n",
        "      model.add(MaxPooling2D(pool_size=(2,2)))\n",
        "      for i in range(conv_layer):\n",
        "        print(\"added conv layer\")\n",
        "        model.add(Conv2D(layer_size, (3,3)))\n",
        "        model.add(Activation(\"relu\"))\n",
        "        model.add(MaxPooling2D(pool_size=(2,2)))\n",
        "\n",
        "      model.add(Flatten())\n",
        "      for j in range(dense_layer):\n",
        "        print(\"added dense layer\")\n",
        "        model.add(Dense(layer_size))\n",
        "        model.add(Activation(\"relu\"))\n",
        "\n",
        "      model.add(Dense(1))\n",
        "      model.add(Activation(\"sigmoid\"))\n",
        "      tensorboard = TensorBoard(log_dir='logs_multiple/{}'.format(NAME))\n",
        "      model.compile(loss=\"binary_crossentropy\",\n",
        "                   optimizer=\"adamax\",\n",
        "                   metrics=[\"accuracy\"])\n",
        "\n",
        "      model.fit(X, Y, batch_size=32, validation_split=0.2, epochs=15, callbacks=[tensorboard])\n",
        "\n",
        "#Read tensor.keras.callbacks"
      ],
      "execution_count": null,
      "outputs": []
    },
    {
      "cell_type": "code",
      "metadata": {
        "id": "SsjXZWP7ynd_"
      },
      "source": [
        "  %tensorboard --logdir logs_multiple\n",
        " "
      ],
      "execution_count": null,
      "outputs": []
    },
    {
      "cell_type": "code",
      "metadata": {
        "id": "G7VagadkqnVU"
      },
      "source": [
        ""
      ],
      "execution_count": null,
      "outputs": []
    }
  ]
}